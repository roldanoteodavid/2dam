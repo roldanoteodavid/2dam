{
 "cells": [
  {
   "cell_type": "markdown",
   "metadata": {},
   "source": [
    "__Examen de:__ Nombre Apellido"
   ]
  },
  {
   "cell_type": "markdown",
   "metadata": {},
   "source": [
    "<b><font color='red'>Ejercicio 01</font> __(6 puntos)__</b> \n",
    "\n",
    "Durante un año, una estación meteorológica hecha con un arduino colocada en la comunidad de Madrid, ha tomado muestras diarias de temperatura máxima, mínima y media, además de las horas de luz y la potencia recibida en unos paneles solares utilizados para cargar sus baterias, el archivo tiene formato csv, <a href=\"mediciones_madrid.csv\">mediciones_madrid.csv</a>.\n",
    "\n",
    "__1.1)__ carga los datos y haz un head()"
   ]
  },
  {
   "cell_type": "code",
   "execution_count": 3,
   "metadata": {},
   "outputs": [
    {
     "ename": "FileNotFoundError",
     "evalue": "[Errno 2] No such file or directory: 'mediciones_madrid.csv'",
     "output_type": "error",
     "traceback": [
      "\u001b[1;31m---------------------------------------------------------------------------\u001b[0m",
      "\u001b[1;31mFileNotFoundError\u001b[0m                         Traceback (most recent call last)",
      "Cell \u001b[1;32mIn[3], line 3\u001b[0m\n\u001b[0;32m      1\u001b[0m \u001b[38;5;66;03m#Escribe aquí tu código\u001b[39;00m\n\u001b[0;32m      2\u001b[0m \u001b[38;5;28;01mimport\u001b[39;00m \u001b[38;5;21;01mpandas\u001b[39;00m \u001b[38;5;28;01mas\u001b[39;00m \u001b[38;5;21;01mpd\u001b[39;00m\n\u001b[1;32m----> 3\u001b[0m df_data \u001b[38;5;241m=\u001b[39m \u001b[43mpd\u001b[49m\u001b[38;5;241;43m.\u001b[39;49m\u001b[43mread_csv\u001b[49m\u001b[43m(\u001b[49m\u001b[38;5;124;43m\"\u001b[39;49m\u001b[38;5;124;43mmediciones_madrid.csv\u001b[39;49m\u001b[38;5;124;43m\"\u001b[39;49m\u001b[43m)\u001b[49m\n\u001b[0;32m      4\u001b[0m df_data\u001b[38;5;241m.\u001b[39mhead()\n",
      "File \u001b[1;32m~\\AppData\\Local\\Packages\\PythonSoftwareFoundation.Python.3.11_qbz5n2kfra8p0\\LocalCache\\local-packages\\Python311\\site-packages\\pandas\\io\\parsers\\readers.py:948\u001b[0m, in \u001b[0;36mread_csv\u001b[1;34m(filepath_or_buffer, sep, delimiter, header, names, index_col, usecols, dtype, engine, converters, true_values, false_values, skipinitialspace, skiprows, skipfooter, nrows, na_values, keep_default_na, na_filter, verbose, skip_blank_lines, parse_dates, infer_datetime_format, keep_date_col, date_parser, date_format, dayfirst, cache_dates, iterator, chunksize, compression, thousands, decimal, lineterminator, quotechar, quoting, doublequote, escapechar, comment, encoding, encoding_errors, dialect, on_bad_lines, delim_whitespace, low_memory, memory_map, float_precision, storage_options, dtype_backend)\u001b[0m\n\u001b[0;32m    935\u001b[0m kwds_defaults \u001b[38;5;241m=\u001b[39m _refine_defaults_read(\n\u001b[0;32m    936\u001b[0m     dialect,\n\u001b[0;32m    937\u001b[0m     delimiter,\n\u001b[1;32m   (...)\u001b[0m\n\u001b[0;32m    944\u001b[0m     dtype_backend\u001b[38;5;241m=\u001b[39mdtype_backend,\n\u001b[0;32m    945\u001b[0m )\n\u001b[0;32m    946\u001b[0m kwds\u001b[38;5;241m.\u001b[39mupdate(kwds_defaults)\n\u001b[1;32m--> 948\u001b[0m \u001b[38;5;28;01mreturn\u001b[39;00m \u001b[43m_read\u001b[49m\u001b[43m(\u001b[49m\u001b[43mfilepath_or_buffer\u001b[49m\u001b[43m,\u001b[49m\u001b[43m \u001b[49m\u001b[43mkwds\u001b[49m\u001b[43m)\u001b[49m\n",
      "File \u001b[1;32m~\\AppData\\Local\\Packages\\PythonSoftwareFoundation.Python.3.11_qbz5n2kfra8p0\\LocalCache\\local-packages\\Python311\\site-packages\\pandas\\io\\parsers\\readers.py:611\u001b[0m, in \u001b[0;36m_read\u001b[1;34m(filepath_or_buffer, kwds)\u001b[0m\n\u001b[0;32m    608\u001b[0m _validate_names(kwds\u001b[38;5;241m.\u001b[39mget(\u001b[38;5;124m\"\u001b[39m\u001b[38;5;124mnames\u001b[39m\u001b[38;5;124m\"\u001b[39m, \u001b[38;5;28;01mNone\u001b[39;00m))\n\u001b[0;32m    610\u001b[0m \u001b[38;5;66;03m# Create the parser.\u001b[39;00m\n\u001b[1;32m--> 611\u001b[0m parser \u001b[38;5;241m=\u001b[39m \u001b[43mTextFileReader\u001b[49m\u001b[43m(\u001b[49m\u001b[43mfilepath_or_buffer\u001b[49m\u001b[43m,\u001b[49m\u001b[43m \u001b[49m\u001b[38;5;241;43m*\u001b[39;49m\u001b[38;5;241;43m*\u001b[39;49m\u001b[43mkwds\u001b[49m\u001b[43m)\u001b[49m\n\u001b[0;32m    613\u001b[0m \u001b[38;5;28;01mif\u001b[39;00m chunksize \u001b[38;5;129;01mor\u001b[39;00m iterator:\n\u001b[0;32m    614\u001b[0m     \u001b[38;5;28;01mreturn\u001b[39;00m parser\n",
      "File \u001b[1;32m~\\AppData\\Local\\Packages\\PythonSoftwareFoundation.Python.3.11_qbz5n2kfra8p0\\LocalCache\\local-packages\\Python311\\site-packages\\pandas\\io\\parsers\\readers.py:1448\u001b[0m, in \u001b[0;36mTextFileReader.__init__\u001b[1;34m(self, f, engine, **kwds)\u001b[0m\n\u001b[0;32m   1445\u001b[0m     \u001b[38;5;28mself\u001b[39m\u001b[38;5;241m.\u001b[39moptions[\u001b[38;5;124m\"\u001b[39m\u001b[38;5;124mhas_index_names\u001b[39m\u001b[38;5;124m\"\u001b[39m] \u001b[38;5;241m=\u001b[39m kwds[\u001b[38;5;124m\"\u001b[39m\u001b[38;5;124mhas_index_names\u001b[39m\u001b[38;5;124m\"\u001b[39m]\n\u001b[0;32m   1447\u001b[0m \u001b[38;5;28mself\u001b[39m\u001b[38;5;241m.\u001b[39mhandles: IOHandles \u001b[38;5;241m|\u001b[39m \u001b[38;5;28;01mNone\u001b[39;00m \u001b[38;5;241m=\u001b[39m \u001b[38;5;28;01mNone\u001b[39;00m\n\u001b[1;32m-> 1448\u001b[0m \u001b[38;5;28mself\u001b[39m\u001b[38;5;241m.\u001b[39m_engine \u001b[38;5;241m=\u001b[39m \u001b[38;5;28;43mself\u001b[39;49m\u001b[38;5;241;43m.\u001b[39;49m\u001b[43m_make_engine\u001b[49m\u001b[43m(\u001b[49m\u001b[43mf\u001b[49m\u001b[43m,\u001b[49m\u001b[43m \u001b[49m\u001b[38;5;28;43mself\u001b[39;49m\u001b[38;5;241;43m.\u001b[39;49m\u001b[43mengine\u001b[49m\u001b[43m)\u001b[49m\n",
      "File \u001b[1;32m~\\AppData\\Local\\Packages\\PythonSoftwareFoundation.Python.3.11_qbz5n2kfra8p0\\LocalCache\\local-packages\\Python311\\site-packages\\pandas\\io\\parsers\\readers.py:1705\u001b[0m, in \u001b[0;36mTextFileReader._make_engine\u001b[1;34m(self, f, engine)\u001b[0m\n\u001b[0;32m   1703\u001b[0m     \u001b[38;5;28;01mif\u001b[39;00m \u001b[38;5;124m\"\u001b[39m\u001b[38;5;124mb\u001b[39m\u001b[38;5;124m\"\u001b[39m \u001b[38;5;129;01mnot\u001b[39;00m \u001b[38;5;129;01min\u001b[39;00m mode:\n\u001b[0;32m   1704\u001b[0m         mode \u001b[38;5;241m+\u001b[39m\u001b[38;5;241m=\u001b[39m \u001b[38;5;124m\"\u001b[39m\u001b[38;5;124mb\u001b[39m\u001b[38;5;124m\"\u001b[39m\n\u001b[1;32m-> 1705\u001b[0m \u001b[38;5;28mself\u001b[39m\u001b[38;5;241m.\u001b[39mhandles \u001b[38;5;241m=\u001b[39m \u001b[43mget_handle\u001b[49m\u001b[43m(\u001b[49m\n\u001b[0;32m   1706\u001b[0m \u001b[43m    \u001b[49m\u001b[43mf\u001b[49m\u001b[43m,\u001b[49m\n\u001b[0;32m   1707\u001b[0m \u001b[43m    \u001b[49m\u001b[43mmode\u001b[49m\u001b[43m,\u001b[49m\n\u001b[0;32m   1708\u001b[0m \u001b[43m    \u001b[49m\u001b[43mencoding\u001b[49m\u001b[38;5;241;43m=\u001b[39;49m\u001b[38;5;28;43mself\u001b[39;49m\u001b[38;5;241;43m.\u001b[39;49m\u001b[43moptions\u001b[49m\u001b[38;5;241;43m.\u001b[39;49m\u001b[43mget\u001b[49m\u001b[43m(\u001b[49m\u001b[38;5;124;43m\"\u001b[39;49m\u001b[38;5;124;43mencoding\u001b[39;49m\u001b[38;5;124;43m\"\u001b[39;49m\u001b[43m,\u001b[49m\u001b[43m \u001b[49m\u001b[38;5;28;43;01mNone\u001b[39;49;00m\u001b[43m)\u001b[49m\u001b[43m,\u001b[49m\n\u001b[0;32m   1709\u001b[0m \u001b[43m    \u001b[49m\u001b[43mcompression\u001b[49m\u001b[38;5;241;43m=\u001b[39;49m\u001b[38;5;28;43mself\u001b[39;49m\u001b[38;5;241;43m.\u001b[39;49m\u001b[43moptions\u001b[49m\u001b[38;5;241;43m.\u001b[39;49m\u001b[43mget\u001b[49m\u001b[43m(\u001b[49m\u001b[38;5;124;43m\"\u001b[39;49m\u001b[38;5;124;43mcompression\u001b[39;49m\u001b[38;5;124;43m\"\u001b[39;49m\u001b[43m,\u001b[49m\u001b[43m \u001b[49m\u001b[38;5;28;43;01mNone\u001b[39;49;00m\u001b[43m)\u001b[49m\u001b[43m,\u001b[49m\n\u001b[0;32m   1710\u001b[0m \u001b[43m    \u001b[49m\u001b[43mmemory_map\u001b[49m\u001b[38;5;241;43m=\u001b[39;49m\u001b[38;5;28;43mself\u001b[39;49m\u001b[38;5;241;43m.\u001b[39;49m\u001b[43moptions\u001b[49m\u001b[38;5;241;43m.\u001b[39;49m\u001b[43mget\u001b[49m\u001b[43m(\u001b[49m\u001b[38;5;124;43m\"\u001b[39;49m\u001b[38;5;124;43mmemory_map\u001b[39;49m\u001b[38;5;124;43m\"\u001b[39;49m\u001b[43m,\u001b[49m\u001b[43m \u001b[49m\u001b[38;5;28;43;01mFalse\u001b[39;49;00m\u001b[43m)\u001b[49m\u001b[43m,\u001b[49m\n\u001b[0;32m   1711\u001b[0m \u001b[43m    \u001b[49m\u001b[43mis_text\u001b[49m\u001b[38;5;241;43m=\u001b[39;49m\u001b[43mis_text\u001b[49m\u001b[43m,\u001b[49m\n\u001b[0;32m   1712\u001b[0m \u001b[43m    \u001b[49m\u001b[43merrors\u001b[49m\u001b[38;5;241;43m=\u001b[39;49m\u001b[38;5;28;43mself\u001b[39;49m\u001b[38;5;241;43m.\u001b[39;49m\u001b[43moptions\u001b[49m\u001b[38;5;241;43m.\u001b[39;49m\u001b[43mget\u001b[49m\u001b[43m(\u001b[49m\u001b[38;5;124;43m\"\u001b[39;49m\u001b[38;5;124;43mencoding_errors\u001b[39;49m\u001b[38;5;124;43m\"\u001b[39;49m\u001b[43m,\u001b[49m\u001b[43m \u001b[49m\u001b[38;5;124;43m\"\u001b[39;49m\u001b[38;5;124;43mstrict\u001b[39;49m\u001b[38;5;124;43m\"\u001b[39;49m\u001b[43m)\u001b[49m\u001b[43m,\u001b[49m\n\u001b[0;32m   1713\u001b[0m \u001b[43m    \u001b[49m\u001b[43mstorage_options\u001b[49m\u001b[38;5;241;43m=\u001b[39;49m\u001b[38;5;28;43mself\u001b[39;49m\u001b[38;5;241;43m.\u001b[39;49m\u001b[43moptions\u001b[49m\u001b[38;5;241;43m.\u001b[39;49m\u001b[43mget\u001b[49m\u001b[43m(\u001b[49m\u001b[38;5;124;43m\"\u001b[39;49m\u001b[38;5;124;43mstorage_options\u001b[39;49m\u001b[38;5;124;43m\"\u001b[39;49m\u001b[43m,\u001b[49m\u001b[43m \u001b[49m\u001b[38;5;28;43;01mNone\u001b[39;49;00m\u001b[43m)\u001b[49m\u001b[43m,\u001b[49m\n\u001b[0;32m   1714\u001b[0m \u001b[43m\u001b[49m\u001b[43m)\u001b[49m\n\u001b[0;32m   1715\u001b[0m \u001b[38;5;28;01massert\u001b[39;00m \u001b[38;5;28mself\u001b[39m\u001b[38;5;241m.\u001b[39mhandles \u001b[38;5;129;01mis\u001b[39;00m \u001b[38;5;129;01mnot\u001b[39;00m \u001b[38;5;28;01mNone\u001b[39;00m\n\u001b[0;32m   1716\u001b[0m f \u001b[38;5;241m=\u001b[39m \u001b[38;5;28mself\u001b[39m\u001b[38;5;241m.\u001b[39mhandles\u001b[38;5;241m.\u001b[39mhandle\n",
      "File \u001b[1;32m~\\AppData\\Local\\Packages\\PythonSoftwareFoundation.Python.3.11_qbz5n2kfra8p0\\LocalCache\\local-packages\\Python311\\site-packages\\pandas\\io\\common.py:863\u001b[0m, in \u001b[0;36mget_handle\u001b[1;34m(path_or_buf, mode, encoding, compression, memory_map, is_text, errors, storage_options)\u001b[0m\n\u001b[0;32m    858\u001b[0m \u001b[38;5;28;01melif\u001b[39;00m \u001b[38;5;28misinstance\u001b[39m(handle, \u001b[38;5;28mstr\u001b[39m):\n\u001b[0;32m    859\u001b[0m     \u001b[38;5;66;03m# Check whether the filename is to be opened in binary mode.\u001b[39;00m\n\u001b[0;32m    860\u001b[0m     \u001b[38;5;66;03m# Binary mode does not support 'encoding' and 'newline'.\u001b[39;00m\n\u001b[0;32m    861\u001b[0m     \u001b[38;5;28;01mif\u001b[39;00m ioargs\u001b[38;5;241m.\u001b[39mencoding \u001b[38;5;129;01mand\u001b[39;00m \u001b[38;5;124m\"\u001b[39m\u001b[38;5;124mb\u001b[39m\u001b[38;5;124m\"\u001b[39m \u001b[38;5;129;01mnot\u001b[39;00m \u001b[38;5;129;01min\u001b[39;00m ioargs\u001b[38;5;241m.\u001b[39mmode:\n\u001b[0;32m    862\u001b[0m         \u001b[38;5;66;03m# Encoding\u001b[39;00m\n\u001b[1;32m--> 863\u001b[0m         handle \u001b[38;5;241m=\u001b[39m \u001b[38;5;28;43mopen\u001b[39;49m\u001b[43m(\u001b[49m\n\u001b[0;32m    864\u001b[0m \u001b[43m            \u001b[49m\u001b[43mhandle\u001b[49m\u001b[43m,\u001b[49m\n\u001b[0;32m    865\u001b[0m \u001b[43m            \u001b[49m\u001b[43mioargs\u001b[49m\u001b[38;5;241;43m.\u001b[39;49m\u001b[43mmode\u001b[49m\u001b[43m,\u001b[49m\n\u001b[0;32m    866\u001b[0m \u001b[43m            \u001b[49m\u001b[43mencoding\u001b[49m\u001b[38;5;241;43m=\u001b[39;49m\u001b[43mioargs\u001b[49m\u001b[38;5;241;43m.\u001b[39;49m\u001b[43mencoding\u001b[49m\u001b[43m,\u001b[49m\n\u001b[0;32m    867\u001b[0m \u001b[43m            \u001b[49m\u001b[43merrors\u001b[49m\u001b[38;5;241;43m=\u001b[39;49m\u001b[43merrors\u001b[49m\u001b[43m,\u001b[49m\n\u001b[0;32m    868\u001b[0m \u001b[43m            \u001b[49m\u001b[43mnewline\u001b[49m\u001b[38;5;241;43m=\u001b[39;49m\u001b[38;5;124;43m\"\u001b[39;49m\u001b[38;5;124;43m\"\u001b[39;49m\u001b[43m,\u001b[49m\n\u001b[0;32m    869\u001b[0m \u001b[43m        \u001b[49m\u001b[43m)\u001b[49m\n\u001b[0;32m    870\u001b[0m     \u001b[38;5;28;01melse\u001b[39;00m:\n\u001b[0;32m    871\u001b[0m         \u001b[38;5;66;03m# Binary mode\u001b[39;00m\n\u001b[0;32m    872\u001b[0m         handle \u001b[38;5;241m=\u001b[39m \u001b[38;5;28mopen\u001b[39m(handle, ioargs\u001b[38;5;241m.\u001b[39mmode)\n",
      "\u001b[1;31mFileNotFoundError\u001b[0m: [Errno 2] No such file or directory: 'mediciones_madrid.csv'"
     ]
    }
   ],
   "source": [
    "#Escribe aquí tu código\n",
    "import pandas as pd\n",
    "df_data = pd.read_csv(\"mediciones_madrid.csv\")\n",
    "df_data.head()"
   ]
  },
  {
   "cell_type": "markdown",
   "metadata": {},
   "source": [
    "Como se puede ver, el \"día anual\" correspondería al día del año contado desde el 1 de enero, mientras que el \"día\" corresponde al día del mes \n",
    "\n",
    "__1.2)__ Crea un DataFrame llamado \"df\" que solo tenga los datos del mes de tu cumpleaños, muestralo utilizando \"df.describe()\""
   ]
  },
  {
   "cell_type": "code",
   "execution_count": null,
   "metadata": {},
   "outputs": [],
   "source": [
    "#Escribe aquí tu código\n",
    "df = df_data[(df_data['mes']==4)]\n",
    "\n",
    "df.describe()"
   ]
  },
  {
   "cell_type": "markdown",
   "metadata": {},
   "source": [
    "responde a la siguiente preguntas : \n",
    "- ¿Cuál es la temeperatura media del mes de tu cumpleaños? (Utitilza \"T\")\n",
    "- ¿Cuál es la temeperatura mínima de mes de tu cumpleaños? (Utiliza \"T_min\")\n",
    "- ¿Cuál es la temeperatura máxima de mes de tu cumpleaños? (Utiliza \"T_max\")"
   ]
  },
  {
   "cell_type": "code",
   "execution_count": 2,
   "metadata": {},
   "outputs": [
    {
     "name": "stdout",
     "output_type": "stream",
     "text": [
      "¿Cuál es la temperatura media del mes de tu cumpleaños?\n"
     ]
    },
    {
     "ename": "NameError",
     "evalue": "name 'df' is not defined",
     "output_type": "error",
     "traceback": [
      "\u001b[1;31m---------------------------------------------------------------------------\u001b[0m",
      "\u001b[1;31mNameError\u001b[0m                                 Traceback (most recent call last)",
      "Cell \u001b[1;32mIn[2], line 3\u001b[0m\n\u001b[0;32m      1\u001b[0m \u001b[38;5;66;03m#Escribe aquí tu código\u001b[39;00m\n\u001b[0;32m      2\u001b[0m \u001b[38;5;28mprint\u001b[39m(\u001b[38;5;124m\"\u001b[39m\u001b[38;5;124m¿Cuál es la temperatura media del mes de tu cumpleaños?\u001b[39m\u001b[38;5;124m\"\u001b[39m)\n\u001b[1;32m----> 3\u001b[0m \u001b[38;5;28mprint\u001b[39m(\u001b[43mdf\u001b[49m[\u001b[38;5;124m\"\u001b[39m\u001b[38;5;124mT\u001b[39m\u001b[38;5;124m\"\u001b[39m]\u001b[38;5;241m.\u001b[39mmean())\n\u001b[0;32m      4\u001b[0m \u001b[38;5;28mprint\u001b[39m(\u001b[38;5;124m\"\u001b[39m\u001b[38;5;124m¿Cuál es la temperatura mínima de mes de tu cumpleaños?\u001b[39m\u001b[38;5;124m\"\u001b[39m)\n\u001b[0;32m      5\u001b[0m \u001b[38;5;28mprint\u001b[39m(df[\u001b[38;5;124m\"\u001b[39m\u001b[38;5;124mT_min\u001b[39m\u001b[38;5;124m\"\u001b[39m]\u001b[38;5;241m.\u001b[39mmean())\n",
      "\u001b[1;31mNameError\u001b[0m: name 'df' is not defined"
     ]
    }
   ],
   "source": [
    "#Escribe aquí tu código\n",
    "print(\"¿Cuál es la temperatura media del mes de tu cumpleaños?\")\n",
    "print(df[\"T\"].mean())\n",
    "print(\"¿Cuál es la temperatura mínima de mes de tu cumpleaños?\")\n",
    "print(df[\"T_min\"].mean())\n",
    "print(\"¿Cuál es la temperatura máxima de mes de tu cumpleaños?\")\n",
    "print(df[\"T_max\"].mean())"
   ]
  },
  {
   "cell_type": "markdown",
   "metadata": {},
   "source": [
    "__1.3)__ Haz que se muestren solamente las temperaturas diarias mayores que la media."
   ]
  },
  {
   "cell_type": "code",
   "execution_count": 5,
   "metadata": {},
   "outputs": [
    {
     "data": {
      "text/html": [
       "<div>\n",
       "<style scoped>\n",
       "    .dataframe tbody tr th:only-of-type {\n",
       "        vertical-align: middle;\n",
       "    }\n",
       "\n",
       "    .dataframe tbody tr th {\n",
       "        vertical-align: top;\n",
       "    }\n",
       "\n",
       "    .dataframe thead th {\n",
       "        text-align: right;\n",
       "    }\n",
       "</style>\n",
       "<table border=\"1\" class=\"dataframe\">\n",
       "  <thead>\n",
       "    <tr style=\"text-align: right;\">\n",
       "      <th></th>\n",
       "      <th>día anual</th>\n",
       "      <th>mes</th>\n",
       "      <th>día</th>\n",
       "      <th>T_min</th>\n",
       "      <th>T</th>\n",
       "      <th>T_max</th>\n",
       "      <th>luz h</th>\n",
       "      <th>kWh</th>\n",
       "      <th>despejado</th>\n",
       "    </tr>\n",
       "  </thead>\n",
       "  <tbody>\n",
       "    <tr>\n",
       "      <th>105</th>\n",
       "      <td>106</td>\n",
       "      <td>4</td>\n",
       "      <td>16</td>\n",
       "      <td>7.999519</td>\n",
       "      <td>14.323795</td>\n",
       "      <td>21.510860</td>\n",
       "      <td>13.729338</td>\n",
       "      <td>6.351832</td>\n",
       "      <td>0</td>\n",
       "    </tr>\n",
       "    <tr>\n",
       "      <th>106</th>\n",
       "      <td>107</td>\n",
       "      <td>4</td>\n",
       "      <td>17</td>\n",
       "      <td>8.127417</td>\n",
       "      <td>14.485443</td>\n",
       "      <td>21.681074</td>\n",
       "      <td>13.765984</td>\n",
       "      <td>6.400779</td>\n",
       "      <td>0</td>\n",
       "    </tr>\n",
       "    <tr>\n",
       "      <th>107</th>\n",
       "      <td>108</td>\n",
       "      <td>4</td>\n",
       "      <td>18</td>\n",
       "      <td>8.256290</td>\n",
       "      <td>14.648319</td>\n",
       "      <td>21.851663</td>\n",
       "      <td>13.802100</td>\n",
       "      <td>6.449254</td>\n",
       "      <td>1</td>\n",
       "    </tr>\n",
       "    <tr>\n",
       "      <th>108</th>\n",
       "      <td>109</td>\n",
       "      <td>4</td>\n",
       "      <td>19</td>\n",
       "      <td>8.386108</td>\n",
       "      <td>14.812384</td>\n",
       "      <td>22.022580</td>\n",
       "      <td>13.837673</td>\n",
       "      <td>6.497241</td>\n",
       "      <td>1</td>\n",
       "    </tr>\n",
       "    <tr>\n",
       "      <th>109</th>\n",
       "      <td>110</td>\n",
       "      <td>4</td>\n",
       "      <td>20</td>\n",
       "      <td>8.516840</td>\n",
       "      <td>14.977597</td>\n",
       "      <td>22.193776</td>\n",
       "      <td>13.872693</td>\n",
       "      <td>6.544722</td>\n",
       "      <td>1</td>\n",
       "    </tr>\n",
       "  </tbody>\n",
       "</table>\n",
       "</div>"
      ],
      "text/plain": [
       "     día anual  mes  día     T_min          T      T_max      luz h       kWh  \\\n",
       "105        106    4   16  7.999519  14.323795  21.510860  13.729338  6.351832   \n",
       "106        107    4   17  8.127417  14.485443  21.681074  13.765984  6.400779   \n",
       "107        108    4   18  8.256290  14.648319  21.851663  13.802100  6.449254   \n",
       "108        109    4   19  8.386108  14.812384  22.022580  13.837673  6.497241   \n",
       "109        110    4   20  8.516840  14.977597  22.193776  13.872693  6.544722   \n",
       "\n",
       "     despejado  \n",
       "105          0  \n",
       "106          0  \n",
       "107          1  \n",
       "108          1  \n",
       "109          1  "
      ]
     },
     "execution_count": 5,
     "metadata": {},
     "output_type": "execute_result"
    }
   ],
   "source": [
    "temp_media = df[\"T\"].mean()\n",
    "\n",
    "df_mas_que_media = df[df['T']>temp_media]\n",
    "\n",
    "df_mas_que_media.head()"
   ]
  },
  {
   "cell_type": "markdown",
   "metadata": {},
   "source": [
    "__1.4)__ Haz que se muestren solamente los días que estaba el cielo despejado"
   ]
  },
  {
   "cell_type": "code",
   "execution_count": 74,
   "metadata": {},
   "outputs": [
    {
     "data": {
      "text/html": [
       "<div>\n",
       "<style scoped>\n",
       "    .dataframe tbody tr th:only-of-type {\n",
       "        vertical-align: middle;\n",
       "    }\n",
       "\n",
       "    .dataframe tbody tr th {\n",
       "        vertical-align: top;\n",
       "    }\n",
       "\n",
       "    .dataframe thead th {\n",
       "        text-align: right;\n",
       "    }\n",
       "</style>\n",
       "<table border=\"1\" class=\"dataframe\">\n",
       "  <thead>\n",
       "    <tr style=\"text-align: right;\">\n",
       "      <th></th>\n",
       "      <th>día anual</th>\n",
       "      <th>mes</th>\n",
       "      <th>día</th>\n",
       "      <th>T_min</th>\n",
       "      <th>T</th>\n",
       "      <th>T_max</th>\n",
       "      <th>luz h</th>\n",
       "      <th>kWh</th>\n",
       "      <th>despejado</th>\n",
       "    </tr>\n",
       "  </thead>\n",
       "  <tbody>\n",
       "    <tr>\n",
       "      <th>92</th>\n",
       "      <td>93</td>\n",
       "      <td>4</td>\n",
       "      <td>3</td>\n",
       "      <td>6.437146</td>\n",
       "      <td>12.348847</td>\n",
       "      <td>19.352984</td>\n",
       "      <td>13.209860</td>\n",
       "      <td>5.680239</td>\n",
       "      <td>1</td>\n",
       "    </tr>\n",
       "    <tr>\n",
       "      <th>93</th>\n",
       "      <td>94</td>\n",
       "      <td>4</td>\n",
       "      <td>4</td>\n",
       "      <td>6.550163</td>\n",
       "      <td>12.491723</td>\n",
       "      <td>19.514222</td>\n",
       "      <td>13.252345</td>\n",
       "      <td>5.733775</td>\n",
       "      <td>1</td>\n",
       "    </tr>\n",
       "    <tr>\n",
       "      <th>94</th>\n",
       "      <td>95</td>\n",
       "      <td>4</td>\n",
       "      <td>5</td>\n",
       "      <td>6.664439</td>\n",
       "      <td>12.636188</td>\n",
       "      <td>19.676405</td>\n",
       "      <td>13.294454</td>\n",
       "      <td>5.787062</td>\n",
       "      <td>1</td>\n",
       "    </tr>\n",
       "    <tr>\n",
       "      <th>99</th>\n",
       "      <td>100</td>\n",
       "      <td>4</td>\n",
       "      <td>10</td>\n",
       "      <td>7.254150</td>\n",
       "      <td>13.381654</td>\n",
       "      <td>20.500069</td>\n",
       "      <td>13.498935</td>\n",
       "      <td>6.049165</td>\n",
       "      <td>1</td>\n",
       "    </tr>\n",
       "    <tr>\n",
       "      <th>100</th>\n",
       "      <td>101</td>\n",
       "      <td>4</td>\n",
       "      <td>11</td>\n",
       "      <td>7.375630</td>\n",
       "      <td>13.535212</td>\n",
       "      <td>20.667058</td>\n",
       "      <td>13.538530</td>\n",
       "      <td>6.100594</td>\n",
       "      <td>1</td>\n",
       "    </tr>\n",
       "  </tbody>\n",
       "</table>\n",
       "</div>"
      ],
      "text/plain": [
       "     día anual  mes  día     T_min          T      T_max      luz h       kWh  \\\n",
       "92          93    4    3  6.437146  12.348847  19.352984  13.209860  5.680239   \n",
       "93          94    4    4  6.550163  12.491723  19.514222  13.252345  5.733775   \n",
       "94          95    4    5  6.664439  12.636188  19.676405  13.294454  5.787062   \n",
       "99         100    4   10  7.254150  13.381654  20.500069  13.498935  6.049165   \n",
       "100        101    4   11  7.375630  13.535212  20.667058  13.538530  6.100594   \n",
       "\n",
       "     despejado  \n",
       "92           1  \n",
       "93           1  \n",
       "94           1  \n",
       "99           1  \n",
       "100          1  "
      ]
     },
     "execution_count": 74,
     "metadata": {},
     "output_type": "execute_result"
    }
   ],
   "source": [
    "#Escribe aquí tu código\n",
    "df_despejado = df[df['despejado']==1]\n",
    "\n",
    "df_despejado.head()"
   ]
  },
  {
   "cell_type": "markdown",
   "metadata": {},
   "source": [
    "__1.5)__ Representa la temperatura máxima, mínima y media diaria para todo el año, como se muestra a continuación\n",
    "\n",
    "\n",
    "<img src=\"Td_med.png\">  "
   ]
  },
  {
   "cell_type": "code",
   "execution_count": 7,
   "metadata": {},
   "outputs": [
    {
     "data": {
      "image/png": "[encoded data removed]",
      "text/plain": [
       "<Figure size 500x300 with 1 Axes>"
      ]
     },
     "metadata": {},
     "output_type": "display_data"
    }
   ],
   "source": [
    "#Escribe aquí tu código\n",
    "import matplotlib.pyplot as plt\n",
    "temp_media = df_data[\"T\"]\n",
    "t_max = df_data[\"T_max\"]\n",
    "t_min = df_data[\"T_min\"]\n",
    "\n",
    "plt.figure(figsize=(5,3))\n",
    "plt.plot(temp_media)\n",
    "\n",
    "plt.fill_between(df_data.index, t_max, t_min, where=(t_max > t_min), facecolor='skyblue', alpha=0.4)\n",
    "plt.show()"
   ]
  },
  {
   "cell_type": "markdown",
   "metadata": {},
   "source": [
    "__1.6)__ Representa la temperatura frente a los días del año como se muestra a continuación\n",
    "\n",
    "<img src=\"Td2_med.png\">  "
   ]
  },
  {
   "cell_type": "code",
   "execution_count": 8,
   "metadata": {},
   "outputs": [
    {
     "data": {
      "image/png": "[encoded data removed]",
      "text/plain": [
       "<Figure size 600x600 with 3 Axes>"
      ]
     },
     "metadata": {},
     "output_type": "display_data"
    }
   ],
   "source": [
    "#Escribe aquí tu código\n",
    "import seaborn as sns\n",
    "sns.jointplot(x='día anual', y='T',data=df_data)\n",
    "plt.show()"
   ]
  },
  {
   "cell_type": "markdown",
   "metadata": {},
   "source": [
    "__1.7)__ Representa la misma gráfica separando los días despejados, como se muestra a continuación.\n",
    "\n",
    "<img src=\"Td3_med.png\"> "
   ]
  },
  {
   "cell_type": "code",
   "execution_count": 40,
   "metadata": {},
   "outputs": [
    {
     "data": {
      "image/png": "[encoded data removed]",
      "text/plain": [
       "<Figure size 600x600 with 3 Axes>"
      ]
     },
     "metadata": {},
     "output_type": "display_data"
    }
   ],
   "source": [
    "#Escribe aquí tu código\n",
    "sns.jointplot(x='día anual', y='T', data=df_data)\n",
    "\n",
    "plt.show()"
   ]
  },
  {
   "cell_type": "markdown",
   "metadata": {},
   "source": [
    "Responde la siguiente pregunta: \n",
    "- Más o menos a que mes o meses les corresponden los días con más días despejados\n",
    "- ¿Cuál es la temeperatura mínima del año? (Utiliza \"T_min\")\n",
    "- ¿Cuál es la temeperatura máxima del año? (Utiliza \"T_max\")"
   ]
  },
  {
   "cell_type": "code",
   "execution_count": 82,
   "metadata": {},
   "outputs": [
    {
     "name": "stdout",
     "output_type": "stream",
     "text": [
      "Mirando las gráficas puedo observar que el mes con más días despejados es julio.\n",
      "¿Cuál es la temeperatura mínima del año?\n",
      "0.671982856959027\n",
      "¿Cuál es la temeperatura máxima del año?\n",
      "32.12049625458894\n"
     ]
    }
   ],
   "source": [
    "print(\"Mirando las gráficas puedo observar que el mes con más días despejados es julio.\")\n",
    "\n",
    "print(\"¿Cuál es la temeperatura mínima del año?\")\n",
    "print(df_data[\"T_min\"].min())\n",
    "\n",
    "print(\"¿Cuál es la temeperatura máxima del año?\")\n",
    "print(df_data[\"T_max\"].max())"
   ]
  },
  {
   "cell_type": "markdown",
   "metadata": {},
   "source": [
    "__1.8)__ Representa las horas de luz díarias frente al mes como se muestra a continuación.\n",
    "\n",
    "<img src=\"luz.png\">  "
   ]
  },
  {
   "cell_type": "code",
   "execution_count": 54,
   "metadata": {},
   "outputs": [
    {
     "data": {
      "text/plain": [
       "<Axes: xlabel='mes', ylabel='luz h'>"
      ]
     },
     "execution_count": 54,
     "metadata": {},
     "output_type": "execute_result"
    },
    {
     "data": {
      "image/png": "[encoded data removed]",
      "text/plain": [
       "<Figure size 640x480 with 1 Axes>"
      ]
     },
     "metadata": {},
     "output_type": "display_data"
    }
   ],
   "source": [
    "#Escribe aquí tu código\n",
    "sns.barplot(x='mes', y='luz h', data=df_data)"
   ]
  },
  {
   "cell_type": "markdown",
   "metadata": {},
   "source": [
    "__1.9)__ Representa la temperatura média diaria frente al mes como se muestra a continuación.\n",
    "\n",
    "<img src=\"temp.png\">  "
   ]
  },
  {
   "cell_type": "code",
   "execution_count": 99,
   "metadata": {},
   "outputs": [
    {
     "data": {
      "image/png": "[encoded data removed]",
      "text/plain": [
       "<Figure size 640x480 with 1 Axes>"
      ]
     },
     "metadata": {},
     "output_type": "display_data"
    }
   ],
   "source": [
    "#Escribe aquí tu código\n",
    "sns.barplot(x='mes', y='T', data=df_data)"
   ]
  },
  {
   "cell_type": "markdown",
   "metadata": {},
   "source": [
    "__1.10)__ Haz un analisis de las correlaciones, ¿ Estaría mas relaccionada la temperatura díaria con las horas de sol o con que el cielo este o no despejado?"
   ]
  },
  {
   "cell_type": "code",
   "execution_count": 48,
   "metadata": {},
   "outputs": [
    {
     "name": "stdout",
     "output_type": "stream",
     "text": [
      "La temperatura diaria está más relacionada con las horas de sol (0.843555) que con que el cielo esté despejado (0.215908)\n"
     ]
    },
    {
     "data": {
      "text/html": [
       "<div>\n",
       "<style scoped>\n",
       "    .dataframe tbody tr th:only-of-type {\n",
       "        vertical-align: middle;\n",
       "    }\n",
       "\n",
       "    .dataframe tbody tr th {\n",
       "        vertical-align: top;\n",
       "    }\n",
       "\n",
       "    .dataframe thead th {\n",
       "        text-align: right;\n",
       "    }\n",
       "</style>\n",
       "<table border=\"1\" class=\"dataframe\">\n",
       "  <thead>\n",
       "    <tr style=\"text-align: right;\">\n",
       "      <th></th>\n",
       "      <th>día anual</th>\n",
       "      <th>mes</th>\n",
       "      <th>día</th>\n",
       "      <th>T_min</th>\n",
       "      <th>T</th>\n",
       "      <th>T_max</th>\n",
       "      <th>luz h</th>\n",
       "      <th>kWh</th>\n",
       "      <th>despejado</th>\n",
       "    </tr>\n",
       "  </thead>\n",
       "  <tbody>\n",
       "    <tr>\n",
       "      <th>día anual</th>\n",
       "      <td>1.000000</td>\n",
       "      <td>0.996504</td>\n",
       "      <td>0.095131</td>\n",
       "      <td>0.097446</td>\n",
       "      <td>0.045408</td>\n",
       "      <td>-0.060737</td>\n",
       "      <td>-0.317954</td>\n",
       "      <td>-0.187652</td>\n",
       "      <td>-0.021849</td>\n",
       "    </tr>\n",
       "    <tr>\n",
       "      <th>mes</th>\n",
       "      <td>0.996504</td>\n",
       "      <td>1.000000</td>\n",
       "      <td>0.011893</td>\n",
       "      <td>0.100853</td>\n",
       "      <td>0.048893</td>\n",
       "      <td>-0.056765</td>\n",
       "      <td>-0.314946</td>\n",
       "      <td>-0.184553</td>\n",
       "      <td>-0.020406</td>\n",
       "    </tr>\n",
       "    <tr>\n",
       "      <th>día</th>\n",
       "      <td>0.095131</td>\n",
       "      <td>0.011893</td>\n",
       "      <td>1.000000</td>\n",
       "      <td>0.005626</td>\n",
       "      <td>0.002858</td>\n",
       "      <td>-0.007952</td>\n",
       "      <td>0.000959</td>\n",
       "      <td>0.006645</td>\n",
       "      <td>-0.011811</td>\n",
       "    </tr>\n",
       "    <tr>\n",
       "      <th>T_min</th>\n",
       "      <td>0.097446</td>\n",
       "      <td>0.100853</td>\n",
       "      <td>0.005626</td>\n",
       "      <td>1.000000</td>\n",
       "      <td>0.998273</td>\n",
       "      <td>0.985205</td>\n",
       "      <td>0.816007</td>\n",
       "      <td>0.893151</td>\n",
       "      <td>0.215407</td>\n",
       "    </tr>\n",
       "    <tr>\n",
       "      <th>T</th>\n",
       "      <td>0.045408</td>\n",
       "      <td>0.048893</td>\n",
       "      <td>0.002858</td>\n",
       "      <td>0.998273</td>\n",
       "      <td>1.000000</td>\n",
       "      <td>0.991196</td>\n",
       "      <td>0.843555</td>\n",
       "      <td>0.913224</td>\n",
       "      <td>0.215908</td>\n",
       "    </tr>\n",
       "    <tr>\n",
       "      <th>T_max</th>\n",
       "      <td>-0.060737</td>\n",
       "      <td>-0.056765</td>\n",
       "      <td>-0.007952</td>\n",
       "      <td>0.985205</td>\n",
       "      <td>0.991196</td>\n",
       "      <td>1.000000</td>\n",
       "      <td>0.878809</td>\n",
       "      <td>0.932673</td>\n",
       "      <td>0.218422</td>\n",
       "    </tr>\n",
       "    <tr>\n",
       "      <th>luz h</th>\n",
       "      <td>-0.317954</td>\n",
       "      <td>-0.314946</td>\n",
       "      <td>0.000959</td>\n",
       "      <td>0.816007</td>\n",
       "      <td>0.843555</td>\n",
       "      <td>0.878809</td>\n",
       "      <td>1.000000</td>\n",
       "      <td>0.986840</td>\n",
       "      <td>0.170696</td>\n",
       "    </tr>\n",
       "    <tr>\n",
       "      <th>kWh</th>\n",
       "      <td>-0.187652</td>\n",
       "      <td>-0.184553</td>\n",
       "      <td>0.006645</td>\n",
       "      <td>0.893151</td>\n",
       "      <td>0.913224</td>\n",
       "      <td>0.932673</td>\n",
       "      <td>0.986840</td>\n",
       "      <td>1.000000</td>\n",
       "      <td>0.184211</td>\n",
       "    </tr>\n",
       "    <tr>\n",
       "      <th>despejado</th>\n",
       "      <td>-0.021849</td>\n",
       "      <td>-0.020406</td>\n",
       "      <td>-0.011811</td>\n",
       "      <td>0.215407</td>\n",
       "      <td>0.215908</td>\n",
       "      <td>0.218422</td>\n",
       "      <td>0.170696</td>\n",
       "      <td>0.184211</td>\n",
       "      <td>1.000000</td>\n",
       "    </tr>\n",
       "  </tbody>\n",
       "</table>\n",
       "</div>"
      ],
      "text/plain": [
       "           día anual       mes       día     T_min         T     T_max  \\\n",
       "día anual   1.000000  0.996504  0.095131  0.097446  0.045408 -0.060737   \n",
       "mes         0.996504  1.000000  0.011893  0.100853  0.048893 -0.056765   \n",
       "día         0.095131  0.011893  1.000000  0.005626  0.002858 -0.007952   \n",
       "T_min       0.097446  0.100853  0.005626  1.000000  0.998273  0.985205   \n",
       "T           0.045408  0.048893  0.002858  0.998273  1.000000  0.991196   \n",
       "T_max      -0.060737 -0.056765 -0.007952  0.985205  0.991196  1.000000   \n",
       "luz h      -0.317954 -0.314946  0.000959  0.816007  0.843555  0.878809   \n",
       "kWh        -0.187652 -0.184553  0.006645  0.893151  0.913224  0.932673   \n",
       "despejado  -0.021849 -0.020406 -0.011811  0.215407  0.215908  0.218422   \n",
       "\n",
       "              luz h       kWh  despejado  \n",
       "día anual -0.317954 -0.187652  -0.021849  \n",
       "mes       -0.314946 -0.184553  -0.020406  \n",
       "día        0.000959  0.006645  -0.011811  \n",
       "T_min      0.816007  0.893151   0.215407  \n",
       "T          0.843555  0.913224   0.215908  \n",
       "T_max      0.878809  0.932673   0.218422  \n",
       "luz h      1.000000  0.986840   0.170696  \n",
       "kWh        0.986840  1.000000   0.184211  \n",
       "despejado  0.170696  0.184211   1.000000  "
      ]
     },
     "execution_count": 48,
     "metadata": {},
     "output_type": "execute_result"
    }
   ],
   "source": [
    "#Escribe aquí tu código\n",
    "print(\"La temperatura diaria está más relacionada con las horas de sol (0.843555) que con que el cielo esté despejado (0.215908)\")\n",
    "df_data.corr()"
   ]
  },
  {
   "cell_type": "markdown",
   "metadata": {},
   "source": [
    "<b><font color='red'>Ejercicio 03</font> __(2 puntos)__ </b> \n",
    "\n",
    "__2.1)__ Crea un nuevo DataFrame con las temperaturas medias mensuales."
   ]
  },
  {
   "cell_type": "code",
   "execution_count": 42,
   "metadata": {},
   "outputs": [
    {
     "data": {
      "text/html": [
       "<div>\n",
       "<style scoped>\n",
       "    .dataframe tbody tr th:only-of-type {\n",
       "        vertical-align: middle;\n",
       "    }\n",
       "\n",
       "    .dataframe tbody tr th {\n",
       "        vertical-align: top;\n",
       "    }\n",
       "\n",
       "    .dataframe thead th {\n",
       "        text-align: right;\n",
       "    }\n",
       "</style>\n",
       "<table border=\"1\" class=\"dataframe\">\n",
       "  <thead>\n",
       "    <tr style=\"text-align: right;\">\n",
       "      <th></th>\n",
       "      <th>mes</th>\n",
       "      <th>T_media</th>\n",
       "    </tr>\n",
       "  </thead>\n",
       "  <tbody>\n",
       "    <tr>\n",
       "      <th>0</th>\n",
       "      <td>enero</td>\n",
       "      <td>6.191012</td>\n",
       "    </tr>\n",
       "    <tr>\n",
       "      <th>1</th>\n",
       "      <td>febrero</td>\n",
       "      <td>7.540026</td>\n",
       "    </tr>\n",
       "    <tr>\n",
       "      <th>2</th>\n",
       "      <td>marzo</td>\n",
       "      <td>10.184975</td>\n",
       "    </tr>\n",
       "    <tr>\n",
       "      <th>3</th>\n",
       "      <td>abril</td>\n",
       "      <td>14.290825</td>\n",
       "    </tr>\n",
       "    <tr>\n",
       "      <th>4</th>\n",
       "      <td>mayo</td>\n",
       "      <td>19.400028</td>\n",
       "    </tr>\n",
       "    <tr>\n",
       "      <th>5</th>\n",
       "      <td>junio</td>\n",
       "      <td>23.938923</td>\n",
       "    </tr>\n",
       "    <tr>\n",
       "      <th>6</th>\n",
       "      <td>julio</td>\n",
       "      <td>25.722450</td>\n",
       "    </tr>\n",
       "    <tr>\n",
       "      <th>7</th>\n",
       "      <td>agosto</td>\n",
       "      <td>23.455866</td>\n",
       "    </tr>\n",
       "    <tr>\n",
       "      <th>8</th>\n",
       "      <td>septiembre</td>\n",
       "      <td>18.046629</td>\n",
       "    </tr>\n",
       "    <tr>\n",
       "      <th>9</th>\n",
       "      <td>octubre</td>\n",
       "      <td>12.006428</td>\n",
       "    </tr>\n",
       "    <tr>\n",
       "      <th>10</th>\n",
       "      <td>noviembre</td>\n",
       "      <td>7.506047</td>\n",
       "    </tr>\n",
       "    <tr>\n",
       "      <th>11</th>\n",
       "      <td>diciembre</td>\n",
       "      <td>5.089608</td>\n",
       "    </tr>\n",
       "  </tbody>\n",
       "</table>\n",
       "</div>"
      ],
      "text/plain": [
       "           mes    T_media\n",
       "0        enero   6.191012\n",
       "1      febrero   7.540026\n",
       "2        marzo  10.184975\n",
       "3        abril  14.290825\n",
       "4         mayo  19.400028\n",
       "5        junio  23.938923\n",
       "6        julio  25.722450\n",
       "7       agosto  23.455866\n",
       "8   septiembre  18.046629\n",
       "9      octubre  12.006428\n",
       "10   noviembre   7.506047\n",
       "11   diciembre   5.089608"
      ]
     },
     "execution_count": 42,
     "metadata": {},
     "output_type": "execute_result"
    }
   ],
   "source": [
    "#ayuda\n",
    "meses=[\"enero\",\"febrero\",\"marzo\",\"abril\",\"mayo\",\"junio\",\"julio\",\"agosto\",\"septiembre\",\"octubre\",\"noviembre\",\"diciembre\"]\n",
    "dias = [31,28,31,30,31,30,31,31,30,31,30,31]\n",
    "\n",
    "t_enero = df_data[(df_data['mes']==1)]\n",
    "t_febrero = df_data[(df_data['mes']==2)]\n",
    "t_marzo = df_data[(df_data['mes']==3)]\n",
    "t_abril = df_data[(df_data['mes']==4)]\n",
    "t_mayo = df_data[(df_data['mes']==5)]\n",
    "t_junio = df_data[(df_data['mes']==6)]\n",
    "t_julio = df_data[(df_data['mes']==7)]\n",
    "t_agosto = df_data[(df_data['mes']==8)]\n",
    "t_septiembre = df_data[(df_data['mes']==9)]\n",
    "t_octubre = df_data[(df_data['mes']==10)]\n",
    "t_noviembre = df_data[(df_data['mes']==11)]\n",
    "t_diciembre = df_data[(df_data['mes']==12)]\n",
    "\n",
    "temps = [t_enero['T'].mean(), t_febrero['T'].mean(), t_marzo['T'].mean(), t_abril['T'].mean(), t_mayo['T'].mean(), t_junio['T'].mean(), t_julio['T'].mean(), t_agosto['T'].mean(), t_septiembre['T'].mean(), t_octubre['T'].mean(), t_noviembre['T'].mean(), t_diciembre['T'].mean()]\n",
    "\n",
    "df_tempan = pd.DataFrame({'mes': meses, 'T_media': temps})\n",
    "df_tempan.head(12)"
   ]
  },
  {
   "cell_type": "markdown",
   "metadata": {},
   "source": [
    "__2.2)__ Añade las temperaturas minimas y máximas alacanzadas durante el mes, pintalo y señala la zona fía, en x=1.5 y x=9.8 como se muestra a continuación:\n",
    "\n",
    "<img src=\"t_med.png\">  "
   ]
  },
  {
   "cell_type": "code",
   "execution_count": 41,
   "metadata": {},
   "outputs": [
    {
     "data": {
      "image/png": "[encoded data removed]",
      "text/plain": [
       "<Figure size 500x300 with 1 Axes>"
      ]
     },
     "metadata": {},
     "output_type": "display_data"
    }
   ],
   "source": [
    "plt.figure(figsize=(5,3))\n",
    "plt.plot(df_tempan['T_media'])\n",
    "temps_max = [t_enero['T_max'].mean(), t_febrero['T_max'].mean(), t_marzo['T_max'].mean(), t_abril['T_max'].mean(), t_mayo['T_max'].mean(), t_junio['T_max'].mean(), t_julio['T_max'].mean(), t_agosto['T_max'].mean(), t_septiembre['T_max'].mean(), t_octubre['T_max'].mean(), t_noviembre['T_max'].mean(), t_diciembre['T_max'].mean()]\n",
    "temps_min = [t_enero['T_min'].mean(), t_febrero['T_min'].mean(), t_marzo['T_min'].mean(), t_abril['T_min'].mean(), t_mayo['T_min'].mean(), t_junio['T_min'].mean(), t_julio['T_min'].mean(), t_agosto['T_min'].mean(), t_septiembre['T_min'].mean(), t_octubre['T_min'].mean(), t_noviembre['T_min'].mean(), t_diciembre['T_min'].mean()]\n",
    "\n",
    "df_tempan = pd.DataFrame({'mes': meses, 'T_media': temps, 'T_max':temps_max, 'T_min':temps_min})\n",
    "\n",
    "plt.fill_between(df_tempan.index, df_tempan['T_max'], df_tempan['T_min'], where=(df_tempan['T_max']>df_tempan['T_min']), facecolor='skyblue', alpha=0.4)\n",
    "\n",
    "plt.axvline(x=1.5, color='r', linestyle='-', linewidth=1)\n",
    "plt.axvline(x=9.8, color='r', linestyle='-', linewidth=1)\n",
    "plt.show()"
   ]
  },
  {
   "cell_type": "markdown",
   "metadata": {},
   "source": [
    "<b><font color='red'>Ejercicio 03</font> (2 puntos)</b> \n",
    "\n",
    "__3.1)__  Crea los siguientes arrays:\n",
    "- Un array __X__ con una distribución uniforme de 10 números aleatorios entre el 0 y el 10\n",
    "- Un array __a__ con una distribución gausiana de 10 números aleatorios centrada en $\\mu=2$, con $\\sigma=0.4$\n",
    "- Un array __Y = a*X + MES__. Siendo el MES, el mes de tú cumpleaños. Saca por pantalla el array __Y__ "
   ]
  },
  {
   "cell_type": "code",
   "execution_count": 68,
   "metadata": {},
   "outputs": [
    {
     "name": "stdout",
     "output_type": "stream",
     "text": [
      "[10, 5, 1, 7, 0, 7, 6, 8, 8, 2]\n",
      "[2.12358391 1.850099   1.87311213 1.99505392 1.63825608 1.60099522\n",
      " 2.24728377 1.37902346 1.74814054 2.15425095]\n",
      "[25.23583906 13.25049499  5.87311213 17.96537742  4.         15.20696655\n",
      " 17.4837026  15.03218767 17.98512431  8.30850189]\n"
     ]
    }
   ],
   "source": [
    "#Escribe aquí tu código\n",
    "import random\n",
    "import numpy as np\n",
    "\n",
    "X=[]\n",
    "for i in range(10):\n",
    "    X.append(random.randint(0,10))\n",
    "\n",
    "print(X)\n",
    "\n",
    "a=[]\n",
    "mu = 2\n",
    "sigma = 0.4\n",
    "N_puntos = 10\n",
    "a= np.random.normal(mu, sigma, N_puntos)\n",
    "\n",
    "print(a)\n",
    "\n",
    "Y = a*X + 4\n",
    "print(Y)"
   ]
  },
  {
   "cell_type": "markdown",
   "metadata": {},
   "source": [
    "__3.2)__ Pinta los puntos en una gráfica, haz un ajuste por minimos cuadrados y haz que aparezca el ajuste en el título de la gráfica, tiene que quedar algo parecido a:"
   ]
  },
  {
   "cell_type": "markdown",
   "metadata": {},
   "source": [
    "<img src=\"graf_min.png\">  "
   ]
  },
  {
   "cell_type": "code",
   "execution_count": 117,
   "metadata": {},
   "outputs": [
    {
     "data": {
      "image/png": "[encoded data removed]",
      "text/plain": [
       "<Figure size 640x480 with 1 Axes>"
      ]
     },
     "metadata": {},
     "output_type": "display_data"
    }
   ],
   "source": [
    "#ajuste por mínimos cuadrados\n",
    "# plt.plot(a, X, 'o')\n",
    "plt.scatter(a, X)\n",
    "plt.plot(Y, a*X + 4,color='orange')\n",
    "\n",
    "def ajuste_minimos_cuadrados(x,y):\n",
    "    b1=0\n",
    "    b1_n=0\n",
    "    b1_d=0\n",
    "    for i in range(len(x)):\n",
    "        b1_n = b1_n + (x[i]- np.mean(x))*(y[i]- np.mean(y))\n",
    "        b1_d = b1_d + (x[i]-np.mean(x))**2\n",
    "    b1=b1_n/b1_d\n",
    "    b0=np.mean(y)-b1*np.mean(x)\n",
    "    return b1,b0\n",
    "\n",
    "b1,b0 = ajuste_minimos_cuadrados(X,a)\n",
    "\n",
    "\n",
    "str = \"y = (\",b1,')* x +(',b0,')'\n",
    "plt.title(str, loc='center')\n",
    "\n",
    "plt.show()"
   ]
  },
  {
   "cell_type": "code",
   "execution_count": null,
   "metadata": {},
   "outputs": [],
   "source": []
  }
 ],
 "metadata": {
  "kernelspec": {
   "display_name": "Python 3 (ipykernel)",
   "language": "python",
   "name": "python3"
  },
  "language_info": {
   "codemirror_mode": {
    "name": "ipython",
    "version": 3
   },
   "file_extension": ".py",
   "mimetype": "text/x-python",
   "name": "python",
   "nbconvert_exporter": "python",
   "pygments_lexer": "ipython3",
   "version": "3.11.7"
  }
 },
 "nbformat": 4,
 "nbformat_minor": 4
}
