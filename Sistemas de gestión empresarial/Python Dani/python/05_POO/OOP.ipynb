{
 "cells": [
  {
   "cell_type": "markdown",
   "id": "5b807fa4",
   "metadata": {},
   "source": [
    "# Objetos y clases\n",
    "\n",
    "En los años 60 la programación se realizaba de un modo “clásico” (no orientado a objetos).  \n",
    "Un programa era un código que se ejecutaba, los trozos de código que se podían emplear en varias ocasiones a lo largo del programa (reusar) se escribían en forma de procedimientos que se invocaban desde el programa, y esta era la única capacidad de reuso de código posible.  \n",
    "Según los códigos se fueron haciendo más grandes y complejos este estilo de programación se hacía más inviable: es difícil programar algo de grandes dimensiones con este estilo de programación. La única posibilidad de repartir trozos de código relativamente independientes entre programadores son los procedimientos, y al final hay que juntar todos estos con el programa central que los llama, siendo frecuente encontrar problemas al unir estos trozos de código.  \n",
    "En los años 70 se empezó a imponer con fuerza otro estilo de programación: POO, programación orientada o objetos (en la literatura suele aparecer como OOP, Object Oriented Programing). Aquí un programa no es un código que llama a procedimientos, aquí un programa es un montón de objetos, independientes entre si, que dialogan entre ellos pasándose mensajes para llegar a resolver el problema en cuestión.  \n",
    "A un objeto no le importa en absoluto como está implementado otro objeto, que código tiene o deja de tener, que variables usa.... sólo le importa a que mensajes es capaz de responder. Un mensaje es la invocación de un método de otro objeto. Un método es muy semejante a un procedimiento de la programación clásica: a un método se le pasan uno, varios o ningún dato y nos devuelve un dato a cambio.  \n",
    "Si hay que repartir un programa de grandes dimensiones entre varios programadores a cada uno se le asignan unos cuantos objetos, y en lo único que tendrán que ponerse de acuerdo entre ellos es en los mensajes que se van a pasar; la forma en que un programador implemente sus objetos no influye en absoluto en lo que los demás programadores hagan. Esto es así gracias a que los objetos son independientes unos de otros (cuanta mayor sea la independencia entre ellos de mayor calidad serán).  \n",
    "Si analizamos lo que hemos dicho hasta aquí de los objetos veremos que estos parecen tener dos partes bastante diferenciadas: la parte que gestiona los mensajes, que ha de ser conocida por los demás, y que no podremos cambiar en el futuro sin modificar los demás objetos (sí es posible añadir nuevos métodos para dar nuevas funciones al objetos sin modificar los métodos ya existentes). La otra parte es el mecanismo por el cual se generan las acciones requeridas por los mensajes el conjunto de variables que se emplean para lograr estas acciones. Esta segunda parte es, en principio, totalmente desconocida para los demás objetos (a veces no es así, pero es lo ideal en un buena OOP). Por ser desconocida para los demás objetos podemos en cualquier momento modificarla sin que a los demás les importe, y además cada programador tendrá total libertad para llevarla a cabo como él considere oportuno.  \n",
    "La OOP permite abordar con más posibilidades de éxito y con un menor coste temporal grandes proyectos de software, simplificándole además la tarea al programador.  \n",
    "\n",
    "Una __clase__ es la “plantilla” que usamos para crear los objetos. Todos los objetos pertenecen a una determinada clase. Un __objeto__ que se crea a partir de una clase se dice que es una __instancia__ de esa clase. Las distintas clases tienen distintas relaciones de herencia entre si: una clase puede derivarse de otra, en ese caso la clase derivada o clase hija hereda los métodos y variables de la clase de la que se deriva o clase padre.\n",
    "\n",
    "#### Encapsulamiento"
   ]
  },
  {
   "cell_type": "code",
   "execution_count": 1,
   "id": "feec2925",
   "metadata": {},
   "outputs": [],
   "source": [
    "from datetime import date\n",
    "\n",
    "class Persona:\n",
    "    # En python no existe el encapsulamiento, se puede simular precediendo a los atributos y métodos con dos barras bajas __\n",
    "    __pensamiento = \"Quiero ir a la luna\"  # atributo privado\n",
    "    cara = \"Alegre\"\n",
    "    \n",
    "    # metodo especial __init__ es el  constructor, nos permite inicializar los atributos de los objetos\n",
    "    def __init__(self, año_nacimiento=2000, sexo=\"Hombre\", nombre=\"Nombre\", apellido=\"Apellido\"): \n",
    "        self.año_nacimiento = año_nacimiento\n",
    "        self.sexo = sexo\n",
    "        self.edad = self.get_edad()\n",
    "        self.nombre = nombre\n",
    "        self.apellido = apellido\n",
    "        \n",
    "    # métodos son funciones que se utilizan para definir el comportamiento de los objetos\n",
    "    def get_edad(self):  \n",
    "        return date.today().year - self.año_nacimiento\n",
    "\n",
    "    # todos los métodos recibe como primer parámetro (self)\n",
    "    def info(self):\n",
    "        print(\"---------------------\")\n",
    "        print(\"Nombre   : \"+self.nombre)\n",
    "        print(\"Apellido : \"+self.apellido)\n",
    "        print(\"Edad     : \"+str(self.edad))\n",
    "        print(\"Sexo     : \"+self.sexo)\n",
    " \n",
    "    def get_pensamiento(self):\n",
    "        print(self.__pensamiento)\n",
    "        \n",
    "    def diferencia_edad(self,otra_persona):\n",
    "        print(\"Me llevo \"+str(abs(self.edad-otra_persona.edad))+\" años con \"+otra_persona.nombre)\n",
    "    \n",
    "        "
   ]
  },
  {
   "cell_type": "code",
   "execution_count": 2,
   "id": "10cbff5d",
   "metadata": {},
   "outputs": [
    {
     "name": "stdout",
     "output_type": "stream",
     "text": [
      "---------------------\n",
      "Nombre   : Nombre\n",
      "Apellido : Apellido\n",
      "Edad     : 23\n",
      "Sexo     : Hombre\n",
      "---------------------\n",
      "Nombre   : Manuel\n",
      "Apellido : López\n",
      "Edad     : 44\n",
      "Sexo     : Hombre\n"
     ]
    }
   ],
   "source": [
    "persona00 = Persona()\n",
    "persona00.info()\n",
    "persona01 = Persona(1979,\"Hombre\",\"Manuel\",\"López\")\n",
    "persona01.info()"
   ]
  },
  {
   "cell_type": "code",
   "execution_count": 3,
   "id": "7e7a29ad",
   "metadata": {},
   "outputs": [
    {
     "name": "stdout",
     "output_type": "stream",
     "text": [
      "Me llevo 21 años con Manuel\n"
     ]
    }
   ],
   "source": [
    "persona00.diferencia_edad(persona01)"
   ]
  },
  {
   "cell_type": "code",
   "execution_count": 4,
   "id": "d11577fe",
   "metadata": {},
   "outputs": [
    {
     "name": "stdout",
     "output_type": "stream",
     "text": [
      "Quiero ir a la luna\n",
      "Alegre\n"
     ]
    }
   ],
   "source": [
    "persona01.get_pensamiento()\n",
    "#print(persona01.__pensamiento) #AttributeError: 'Persona' object has no attribute '__pensamiento'\n",
    "print(persona01.cara)"
   ]
  },
  {
   "cell_type": "code",
   "execution_count": 5,
   "id": "84b9f32f",
   "metadata": {},
   "outputs": [
    {
     "name": "stdout",
     "output_type": "stream",
     "text": [
      "Año de nacimiento 1979\n"
     ]
    }
   ],
   "source": [
    "print(\"Año de nacimiento \"+str(persona01.año_nacimiento))"
   ]
  },
  {
   "cell_type": "code",
   "execution_count": 6,
   "id": "a66b1fa8",
   "metadata": {},
   "outputs": [
    {
     "name": "stdout",
     "output_type": "stream",
     "text": [
      "---------------------\n",
      "Nombre   : Eva\n",
      "Apellido : Gárcia\n",
      "Edad     : 44\n",
      "Sexo     : Mujer\n",
      "\n",
      "Eva tiene cara Alegre\n",
      "Cambiamos la cara a Triste\n",
      "Manuel tiene cara Alegre\n",
      "Eva tiene cara Triste\n"
     ]
    }
   ],
   "source": [
    "persona02 = Persona(1979,\"Mujer\",\"Eva\",\"Gárcia\")\n",
    "persona02.info()\n",
    "print(\"\")\n",
    "print(persona02.nombre+\" tiene cara \"+persona02.cara)\n",
    "print(\"Cambiamos la cara a Triste\")\n",
    "persona02.cara=\"Triste\"\n",
    "print(persona01.nombre+\" tiene cara \"+persona01.cara)\n",
    "print(persona02.nombre+\" tiene cara \"+persona02.cara)"
   ]
  },
  {
   "cell_type": "markdown",
   "id": "8904388a",
   "metadata": {},
   "source": [
    "#### Herencia"
   ]
  },
  {
   "cell_type": "code",
   "execution_count": 7,
   "id": "91335c9b",
   "metadata": {
    "scrolled": true
   },
   "outputs": [
    {
     "name": "stdout",
     "output_type": "stream",
     "text": [
      "---------------------\n",
      "Nombre   : María\n",
      "Apellido : García\n",
      "Edad     : 27\n",
      "Sexo     : Mujer\n",
      "Curso    : 1DAM\n"
     ]
    }
   ],
   "source": [
    "class Estudiante(Persona): \n",
    "    def __init__(self, año_nacimiento, sexo, nombre, apellido, curso):\n",
    "        super().__init__(año_nacimiento, sexo, nombre, apellido)\n",
    "        self.curso = curso\n",
    "    def info(self):\n",
    "        # La función super() me proporciona una referencia a la clase base.\n",
    "        super().info()   \n",
    "        print(\"Curso    : \"+self.curso) \n",
    "\n",
    "estudiante01 = Estudiante(1996,\"Mujer\",\"María\",\"García\",\"1DAM\")\n",
    "\n",
    "estudiante01.info()"
   ]
  },
  {
   "cell_type": "markdown",
   "id": "db018d27",
   "metadata": {},
   "source": [
    "### Polimorfismo"
   ]
  },
  {
   "cell_type": "code",
   "execution_count": 8,
   "id": "9148e26e",
   "metadata": {},
   "outputs": [],
   "source": [
    "from pythonlangutil.overload import Overload, signature  #no hace falta para la sobrecarga devida a la herencia\n",
    "\n",
    "class Profesor(Persona): \n",
    "    def __init__(self, año_nacimiento, sexo, nombre, apellido, curso):\n",
    "        super().__init__(año_nacimiento, sexo, nombre, apellido)\n",
    "        self.curso = curso\n",
    "    def info(self):\n",
    "        super().info()\n",
    "        print(\"Curso    : \"+self.curso)\n",
    "        \n",
    "    @Overload\n",
    "    @signature()\n",
    "    def get_pensamiento(self):\n",
    "        print(\"************\")\n",
    "        \n",
    "    @get_pensamiento.overload\n",
    "    @signature(\"int\",\"int\")    \n",
    "    def get_pensamiento(self,x,y=1):\n",
    "        print(str(x+y))\n",
    "        \n",
    "    @get_pensamiento.overload\n",
    "    @signature(\"str\")    \n",
    "    def get_pensamiento(self,A):\n",
    "        print(A)\n",
    "        \n",
    "profesor01 = Profesor(1981,\"Mujer\",\"Patricia\",\"González\",\"1DAM\")"
   ]
  },
  {
   "cell_type": "code",
   "execution_count": 9,
   "id": "1af3e07f",
   "metadata": {},
   "outputs": [
    {
     "name": "stdout",
     "output_type": "stream",
     "text": [
      "Quiero ir a la luna\n",
      "************\n",
      "3\n",
      "Hola\n"
     ]
    }
   ],
   "source": [
    "estudiante01.get_pensamiento()\n",
    "profesor01.get_pensamiento()\n",
    "profesor01.get_pensamiento(1,2)\n",
    "profesor01.get_pensamiento(\"Hola\")"
   ]
  },
  {
   "cell_type": "code",
   "execution_count": 10,
   "id": "29ee84a0",
   "metadata": {},
   "outputs": [
    {
     "name": "stdout",
     "output_type": "stream",
     "text": [
      "Asignatura : Mátematicas\n",
      "Profesora : Patricia\n"
     ]
    }
   ],
   "source": [
    "class Asignatura:\n",
    "    def __init__(self, nombre,profesor): \n",
    "        self.nombre = nombre\n",
    "        self.profesor = profesor\n",
    "        \n",
    "    def info(self):\n",
    "        print(\"Asignatura : \"+self.nombre)\n",
    "        if self.profesor.sexo == \"Mujer\":\n",
    "            print(\"Profesora : \"+self.profesor.nombre)\n",
    "        if self.profesor.sexo == \"Hombre\":\n",
    "            print(\"Profesor : \"+self.profesor.nombre)\n",
    "        \n",
    "asignatura01 = Asignatura(\"Mátematicas\",profesor01)\n",
    "asignatura01.info()"
   ]
  },
  {
   "cell_type": "code",
   "execution_count": null,
   "id": "c976af8f",
   "metadata": {},
   "outputs": [],
   "source": []
  }
 ],
 "metadata": {
  "kernelspec": {
   "display_name": "Python 3 (ipykernel)",
   "language": "python",
   "name": "python3"
  },
  "language_info": {
   "codemirror_mode": {
    "name": "ipython",
    "version": 3
   },
   "file_extension": ".py",
   "mimetype": "text/x-python",
   "name": "python",
   "nbconvert_exporter": "python",
   "pygments_lexer": "ipython3",
   "version": "3.11.6"
  }
 },
 "nbformat": 4,
 "nbformat_minor": 5
}
