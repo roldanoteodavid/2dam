{
 "cells": [
  {
   "cell_type": "markdown",
   "id": "9538109a",
   "metadata": {},
   "source": [
    "# Módulos\n",
    "\n",
    "Para facilitar el mantenimiento y la lectura los programas demasiado largos pueden dividirse en módulos, agrupando elementos relacionados. Los módulos son entidades que permiten una organización y división lógica de nuestro código.\n",
    "\n",
    "Creamos nuestro primer modulo escribiendo un archivo llamado [fact.py](fact.py) con el siguiente dódigo dentro"
   ]
  },
  {
   "cell_type": "code",
   "execution_count": 1,
   "id": "f5345a9f",
   "metadata": {},
   "outputs": [],
   "source": [
    "# módulo factorial\n",
    "\n",
    "def factorial(numero):\n",
    "    if numero > 1:\n",
    "        numero = numero * factorial(numero -1)\n",
    "    return(numero)"
   ]
  },
  {
   "cell_type": "markdown",
   "id": "d9fce6f0",
   "metadata": {},
   "source": [
    "Ahora entrá al intérprete de Python e importá este módulo con la siguiente orden:"
   ]
  },
  {
   "cell_type": "markdown",
   "id": "feb5d065",
   "metadata": {},
   "source": [
    "    >>>import fact\n",
    "    >>>print(fact.factorial(5))\n",
    "    120"
   ]
  },
  {
   "cell_type": "markdown",
   "id": "328bf587",
   "metadata": {},
   "source": [
    "Un módulo es una archivo conteniendo definiciones y declaraciones de Python. El nombre del archivo es el nombre del módulo con el sufijo .py agregado. Dentro de un módulo, el nombre del mismo (como una cadena) está disponible en el valor de la variable global \\__name__\n",
    "\n",
    "    >>> fact.__name__\n",
    "    'fact'\n",
    "Podemos asignarla un nombre local si la vamos a utilizar con frecuencia:\n",
    "\n",
    "    >>> local_fact=fact.factorial\n",
    "    >>> local_fact(4)\n",
    "    24\n"
   ]
  },
  {
   "cell_type": "markdown",
   "id": "1bc94c3d",
   "metadata": {},
   "source": [
    "Un módulo puede contener tanto declaraciones ejecutables como definiciones de funciones. Estas declaraciones están pensadas para inicializar el módulo. Se ejecutan solamente la primera vez que el módulo se encuentra en una sentencia import. \n",
    "\n",
    "Cada módulo tiene su propio espacio de nombres, el que es usado como espacio de nombres global por todas las funciones definidas en el módulo. Por lo tanto, el autor de un módulo puede usar variables globales en el módulo sin preocuparse acerca de conflictos con una variable global del usuario.\n",
    "\n",
    "Hay una variante de la declaración import que importa los nombres de un módulo directamente al espacio de nombres del módulo que hace la importación. Por ejemplo:\n",
    "\n",
    "    >>> from fact import factorial\n",
    "\n",
    "Cuando ejecutás un módulo de Python con python fact.py <argumentos>\n",
    "37...el código en el módulo será ejecutado, tal como si lo hubieses importado, pero con __name__ con el valor de\n",
    "\"__main__\". Eso significa que agregando este código al final de tu módulo:\n",
    "    \n",
    "    if __name__ == \"__main__\":\n",
    "    import sys\n",
    "    fib(int(sys.argv[1]))\n",
    "...podés hacer que el archivo sea utilizable tanto como script, como módulo importable, porque el código que analiza la linea\n",
    "de órdenes sólo se ejecuta si el módulo es ejecutado como archivo principal:\n",
    "    \n",
    "    $ python3 fact.py 5\n",
    "    120\n",
    "Si el módulo se importa, ese código no se ejecuta:\n",
    "\n",
    "    >>> import fact\n",
    "    >>>\n",
    "Esto es frecuentemente usado para proveer al módulo una interfaz de usuario conveniente, o para propósitos de prueba.\n",
    "\n",
    "Cuando hacemos un script, con o sin importar modulos podemos ver como se comportan los argumentos, en el siguiente script.py:\n",
    "\n",
    "    #!/usr/bin/env python3\n",
    "    import sys\n",
    "    \n",
    "    print(sys.argv)\n",
    "\n",
    "    for i in sys.argv:\n",
    "        print(i)\n",
    "    \n",
    "    for j in range(1,len(sys.argv)):\n",
    "        print(sys.argv[j])\n",
    "\n",
    "ejecutamos el scrip.py con los siguientes argumentos\n",
    "\n",
    "    $ ./script.py uno dos tres\n",
    "    ['./script.py', 'uno', 'dos', 'tres']\n",
    "    ./script.py\n",
    "    uno\n",
    "    dos\n",
    "    tres\n",
    "    uno\n",
    "    dos\n",
    "    tres\n"
   ]
  },
  {
   "cell_type": "markdown",
   "id": "e50be3b6",
   "metadata": {},
   "source": [
    "## Paquetes\n",
    "Si los módulos sirven para organizar el código, los paquetes sirven para organizar los módulos. Los paquetes son tipos especiales de módulos (ambos son de tipo module ) que permiten agrupar módulos relacionados. Mientras los módulos se corresponden a nivel físico con los archivos, los paquetes se representan mediante directorios.\n",
    "\n",
    "Para hacer que Python trate a un directorio como un paquete es necesario crear un archivo \\_\\_init\\_\\_.py en dicha carpeta.\n",
    "\n",
    "Como los modulos, para importar paquetes también se utiliza import y from - import y el caracter . para separar paquetes, subpaquetes y módulos\n",
    "\n",
    "Por ejemplo el paquete mat, que tendría dentro:\n",
    "\n",
    "    mat/\n",
    "     |-- __init__.py\n",
    "     |-- suma.py\n",
    "     |-- resta.py\n"
   ]
  },
  {
   "cell_type": "markdown",
   "id": "436d2751",
   "metadata": {},
   "source": [
    "    >>> import mat.suma\n",
    "    >>> print(mat.suma.suma(2,3))\n",
    "    5"
   ]
  },
  {
   "cell_type": "markdown",
   "id": "f8877028",
   "metadata": {},
   "source": [
    "Cuando se importa un módulo llamado spam, el intérprete busca primero por un módulo con ese nombre que esté integrado en el intérprete. Si no lo encuentra, entonces busca un archivo llamado spam.py en una lista de directorios especificada por la variable sys.path. sys.path se inicializa con las siguientes ubicaciones:\n",
    "- El directorio conteniendo el script (o el directorio actual cuando no se especifica un archivo).\n",
    "- PYTHONPATH (una lista de nombres de directorios, con la misma sintaxis que la variable de entorno PATH.\n",
    "- El directorio default de la instalación.\n",
    "\n",
    "podeis añadir el path usando las operaciones estándar de listas:\n",
    "\n",
    "    >>> import sys\n",
    "    >>> sys.path.append('/home/alumno/python')"
   ]
  }
 ],
 "metadata": {
  "kernelspec": {
   "display_name": "Python 3 (ipykernel)",
   "language": "python",
   "name": "python3"
  },
  "language_info": {
   "codemirror_mode": {
    "name": "ipython",
    "version": 3
   },
   "file_extension": ".py",
   "mimetype": "text/x-python",
   "name": "python",
   "nbconvert_exporter": "python",
   "pygments_lexer": "ipython3",
   "version": "3.11.7"
  }
 },
 "nbformat": 4,
 "nbformat_minor": 5
}
